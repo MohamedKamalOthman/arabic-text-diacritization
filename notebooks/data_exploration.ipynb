{
 "cells": [
  {
   "cell_type": "code",
   "execution_count": 11,
   "metadata": {},
   "outputs": [],
   "source": [
    "import matplotlib.pyplot as plt\n",
    "%matplotlib inline"
   ]
  },
  {
   "cell_type": "code",
   "execution_count": 12,
   "metadata": {},
   "outputs": [],
   "source": [
    "train_file = open('../dataset/train.txt', 'r', encoding='utf-8')\n",
    "train_data = train_file.readlines()"
   ]
  },
  {
   "cell_type": "code",
   "execution_count": 13,
   "metadata": {},
   "outputs": [
    {
     "name": "stdout",
     "output_type": "stream",
     "text": [
      "Number of training examples:  50000\n",
      "Average number of characters in each sentence:  370.30542\n",
      "Maximum number of characters in a sentence:  12457\n",
      "Minimum number of characters in a sentence:  7\n",
      "Average number of words in each sentence:  49.13422\n",
      "Maximum number of words in a sentence:  1640\n",
      "Minimum number of words in a sentence:  1\n",
      "Average number of sentences in each paragraph:  1.8167\n",
      "Maximum number of sentences in a paragraph:  45\n",
      "Minimum number of sentences in a paragraph:  1\n"
     ]
    }
   ],
   "source": [
    "#summary statistics\n",
    "print('Number of training examples: ', len(train_data))\n",
    "\n",
    "#number of characters in each sentence\n",
    "char_count = []\n",
    "for line in train_data:\n",
    "    char_count.append(len(line))\n",
    "\n",
    "print('Average number of characters in each sentence: ', sum(char_count)/len(char_count))\n",
    "print('Maximum number of characters in a sentence: ', max(char_count))\n",
    "print('Minimum number of characters in a sentence: ', min(char_count))\n",
    "\n",
    "#number of words in each sentence\n",
    "word_count = []\n",
    "for line in train_data:\n",
    "    word_count.append(len(line.split()))\n",
    "\n",
    "print('Average number of words in each sentence: ', sum(word_count)/len(word_count))\n",
    "print('Maximum number of words in a sentence: ', max(word_count))\n",
    "print('Minimum number of words in a sentence: ', min(word_count))\n",
    "\n",
    "#number of sentences in each paragraph\n",
    "sent_count = []\n",
    "for line in train_data:\n",
    "    sent_count.append(len(line.split('.')))\n",
    "\n",
    "\n",
    "print('Average number of sentences in each paragraph: ', sum(sent_count)/len(sent_count))\n",
    "print('Maximum number of sentences in a paragraph: ', max(sent_count))\n",
    "print('Minimum number of sentences in a paragraph: ', min(sent_count))"
   ]
  },
  {
   "cell_type": "code",
   "execution_count": 15,
   "metadata": {},
   "outputs": [
    {
     "data": {
      "image/png": "[encoded data removed]",
      "text/plain": [
       "<Figure size 640x480 with 1 Axes>"
      ]
     },
     "metadata": {},
     "output_type": "display_data"
    }
   ],
   "source": [
    "# histogram of characters\n",
    "plt.hist(char_count, bins=50)\n",
    "plt.title('Histogram of characters')\n",
    "plt.show()"
   ]
  },
  {
   "cell_type": "code",
   "execution_count": 16,
   "metadata": {},
   "outputs": [
    {
     "name": "stdout",
     "output_type": "stream",
     "text": [
      "Number of unique characters:  81\n",
      "Characters in descending order of their frequency: \n",
      "َ 3231867\n",
      "  2406711\n",
      "ِ 1327173\n",
      "ْ 1228941\n",
      "ل 1015794\n",
      "ا 975363\n",
      "ُ 853496\n",
      "م 540832\n",
      "ي 533716\n",
      "و 515053\n",
      "ن 486922\n",
      "ه 459911\n",
      "ّ 426516\n",
      "ب 345619\n",
      "ر 333198\n",
      "ع 313010\n",
      "أ 273107\n",
      "ف 267072\n",
      "ق 246988\n",
      "ت 241604\n",
      "د 209889\n",
      "ك 188480\n",
      "ح 160222\n",
      "س 140976\n",
      "ة 137557\n",
      "ج 111868\n",
      "إ 105358\n",
      "ٍ 93191\n",
      "ذ 91433\n",
      "ص 90160\n",
      "، 76243\n",
      "ى 76183\n",
      "خ 73240\n",
      ") 69917\n",
      "( 69495\n",
      "ث 68970\n",
      "ش 63382\n",
      "ٌ 62800\n",
      "ً 61858\n",
      "ض 60006\n",
      "ط 53705\n",
      "\n",
      " 49999\n",
      "ز 49969\n",
      ": 42578\n",
      "غ 41271\n",
      ". 40835\n",
      "ء 28320\n",
      "ئ 20869\n",
      "ظ 16509\n",
      "/ 14895\n",
      "1 14184\n",
      "؛ 13038\n",
      "2 11197\n",
      "3 9552\n",
      "4 8997\n",
      "آ 8096\n",
      "ؤ 6826\n",
      "5 5861\n",
      "7 5534\n",
      "6 5388\n",
      "9 5214\n",
      "8 5191\n",
      "0 4637\n",
      "- 4598\n",
      "} 3529\n",
      "{ 3512\n",
      "؟ 2327\n",
      "[ 1825\n",
      "] 1822\n",
      ", 518\n",
      "; 93\n",
      "» 72\n",
      "« 68\n",
      "* 50\n",
      "\" 38\n",
      "! 23\n",
      "– 4\n",
      "` 2\n",
      "‏ 2\n",
      "~ 1\n",
      "' 1\n"
     ]
    }
   ],
   "source": [
    "# report the count of each unique character\n",
    "char_dict = {}\n",
    "for line in train_data:\n",
    "    for char in line:\n",
    "        if char in char_dict:\n",
    "            char_dict[char] += 1\n",
    "        else:\n",
    "            char_dict[char] = 1\n",
    "\n",
    "print('Number of unique characters: ', len(char_dict))\n",
    "\n",
    "# display the characters in descending order of their frequency\n",
    "char_dict = sorted(char_dict.items(), key=lambda x: x[1], reverse=True)\n",
    "print('Characters in descending order of their frequency: ')\n",
    "for char in char_dict:\n",
    "    print(char[0], char[1])"
   ]
  },
  {
   "cell_type": "code",
   "execution_count": null,
   "metadata": {},
   "outputs": [],
   "source": []
  }
 ],
 "metadata": {
  "kernelspec": {
   "display_name": "Python 3",
   "language": "python",
   "name": "python3"
  },
  "language_info": {
   "codemirror_mode": {
    "name": "ipython",
    "version": 3
   },
   "file_extension": ".py",
   "mimetype": "text/x-python",
   "name": "python",
   "nbconvert_exporter": "python",
   "pygments_lexer": "ipython3",
   "version": "3.11.3"
  }
 },
 "nbformat": 4,
 "nbformat_minor": 2
}
