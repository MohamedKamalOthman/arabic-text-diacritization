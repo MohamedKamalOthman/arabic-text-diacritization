{
 "cells": [
  {
   "cell_type": "code",
   "execution_count": 1,
   "metadata": {},
   "outputs": [],
   "source": [
    "data = open(\"../dataset/train.txt\", \"r\", encoding=\"utf-8\").readlines()"
   ]
  },
  {
   "cell_type": "code",
   "execution_count": 2,
   "metadata": {},
   "outputs": [
    {
     "name": "stdout",
     "output_type": "stream",
     "text": [
      "50000\n"
     ]
    }
   ],
   "source": [
    "print(len(data))"
   ]
  },
  {
   "cell_type": "code",
   "execution_count": 3,
   "metadata": {},
   "outputs": [
    {
     "name": "stdout",
     "output_type": "stream",
     "text": [
      "Total samples:  50000\n",
      "Below max length:  40740\n",
      "Discarded samples:  3663\n",
      "Accepted Split samples:  17199\n"
     ]
    }
   ],
   "source": [
    "import re\n",
    "\n",
    "\n",
    "def split_and_recombine(sequence, max_len, split_char=\".\", split_regex=r\"\\.\"):\n",
    "    split_sequence = re.split(split_regex, sequence)\n",
    "    if len(split_sequence) > 1:\n",
    "        temp_data = []\n",
    "        temp_sequence = ''\n",
    "        for part in split_sequence:\n",
    "            if len(temp_sequence) + len(part) + 1 <= max_len:\n",
    "                if temp_sequence:\n",
    "                    temp_sequence += split_char + part\n",
    "                else:\n",
    "                    temp_sequence += part\n",
    "            else:\n",
    "                temp_data.append(temp_sequence)\n",
    "                temp_sequence = part\n",
    "        if temp_sequence:\n",
    "            temp_data.append(temp_sequence)\n",
    "        return temp_data\n",
    "    return [sequence]\n",
    "\n",
    "def split_training_sequences(data, max_len):\n",
    "    split_data = []\n",
    "    below_max = 0\n",
    "    count = 0\n",
    "    split_accepted = 0\n",
    "    for sequence in data:\n",
    "        if len(sequence) <= max_len:\n",
    "            below_max += 1\n",
    "            split_data.append(sequence)\n",
    "        else:\n",
    "            dot_splited = split_and_recombine(sequence, max_len, split_char='.', split_regex=r\"\\.\")\n",
    "            for part in dot_splited:\n",
    "                if len(part) <= max_len:\n",
    "                    # if empty or contains only spaces\n",
    "                    if part.strip():\n",
    "                        split_accepted += 1\n",
    "                        split_data.append(part)\n",
    "                    continue\n",
    "                else:\n",
    "                    comma_splited = split_and_recombine(part, max_len, split_char='،', split_regex=r\"[،,]\")\n",
    "                    for part in comma_splited:\n",
    "                        if len(part) <= max_len:\n",
    "                            if part.strip():\n",
    "                                split_accepted += 1\n",
    "                                split_data.append(part)\n",
    "                            continue\n",
    "                        else:\n",
    "                            count += 1\n",
    "                            # Discard the sample as splitting attempts failed\n",
    "                            pass\n",
    "    print('Total samples: ', len(data))\n",
    "    print('Below max length: ', below_max)\n",
    "    print('Discarded samples: ', count)\n",
    "    print('Accepted Split samples: ', split_accepted)\n",
    "    return split_data\n",
    "\n",
    "# Example usage:\n",
    "max_length = 600\n",
    "result = split_training_sequences(data, max_length)\n"
   ]
  },
  {
   "cell_type": "code",
   "execution_count": 4,
   "metadata": {},
   "outputs": [
    {
     "name": "stdout",
     "output_type": "stream",
     "text": [
      "Result length:  57939\n",
      "Result length statistics: \n",
      "Min:  3\n",
      "Max:  600\n",
      "Avg:  259.4917585736723\n"
     ]
    }
   ],
   "source": [
    "# result length statistics\n",
    "print('Result length: ', len(result))\n",
    "print('Result length statistics: ')\n",
    "print('Min: ', min([len(x) for x in result]))\n",
    "print('Max: ', max([len(x) for x in result]))\n",
    "print('Avg: ', sum([len(x) for x in result]) / len(result))"
   ]
  },
  {
   "cell_type": "code",
   "execution_count": 5,
   "metadata": {},
   "outputs": [],
   "source": [
    "# write result to file\n",
    "with open('../dataset/train_split.txt', 'w', encoding='utf-8') as f:\n",
    "    f.writelines([res.strip() + '\\n' for res in result])\n",
    "    "
   ]
  },
  {
   "cell_type": "code",
   "execution_count": null,
   "metadata": {},
   "outputs": [],
   "source": []
  }
 ],
 "metadata": {
  "kernelspec": {
   "display_name": "Python 3",
   "language": "python",
   "name": "python3"
  },
  "language_info": {
   "codemirror_mode": {
    "name": "ipython",
    "version": 3
   },
   "file_extension": ".py",
   "mimetype": "text/x-python",
   "name": "python",
   "nbconvert_exporter": "python",
   "pygments_lexer": "ipython3",
   "version": "3.11.6"
  }
 },
 "nbformat": 4,
 "nbformat_minor": 2
}
